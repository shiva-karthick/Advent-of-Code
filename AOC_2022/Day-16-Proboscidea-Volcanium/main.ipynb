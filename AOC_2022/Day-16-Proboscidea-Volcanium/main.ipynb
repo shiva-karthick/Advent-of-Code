{
 "cells": [
  {
   "cell_type": "code",
   "execution_count": 10,
   "metadata": {},
   "outputs": [
    {
     "data": {
      "text/plain": [
       "defaultdict(set, {})"
      ]
     },
     "execution_count": 10,
     "metadata": {},
     "output_type": "execute_result"
    }
   ],
   "source": [
    "from collections import Counter, defaultdict, deque\n",
    "shortest_path = defaultdict(set)\n",
    "\n",
    "shortest_path"
   ]
  },
  {
   "cell_type": "code",
   "execution_count": 12,
   "metadata": {},
   "outputs": [
    {
     "data": {
      "text/plain": [
       "['AA', 'HH', 'BB', 'JJ', 'DD', 'CC']"
      ]
     },
     "execution_count": 12,
     "metadata": {},
     "output_type": "execute_result"
    }
   ],
   "source": [
    "non_zero_list = ['EE', 'AA', 'HH', 'BB', 'JJ', 'DD', 'CC']\n",
    "non_zero_list[0 + 1:]"
   ]
  },
  {
   "cell_type": "code",
   "execution_count": 15,
   "metadata": {},
   "outputs": [
    {
     "ename": "TypeError",
     "evalue": "'collections.defaultdict' object is not callable",
     "output_type": "error",
     "traceback": [
      "\u001b[1;31m---------------------------------------------------------------------------\u001b[0m",
      "\u001b[1;31mTypeError\u001b[0m                                 Traceback (most recent call last)",
      "\u001b[1;32mc:\\Users\\shank\\Desktop\\Advent-of-Code\\AOC_2022\\Day-16-Proboscidea-Volcanium\\main.ipynb Cell 3\u001b[0m in \u001b[0;36m<cell line: 2>\u001b[1;34m()\u001b[0m\n\u001b[0;32m      <a href='vscode-notebook-cell:/c%3A/Users/shank/Desktop/Advent-of-Code/AOC_2022/Day-16-Proboscidea-Volcanium/main.ipynb#X11sZmlsZQ%3D%3D?line=0'>1</a>\u001b[0m cost \u001b[39m=\u001b[39m defaultdict(\u001b[39mlambda\u001b[39;00m: \u001b[39mfloat\u001b[39m(\u001b[39m'\u001b[39m\u001b[39minf\u001b[39m\u001b[39m'\u001b[39m))\n\u001b[1;32m----> <a href='vscode-notebook-cell:/c%3A/Users/shank/Desktop/Advent-of-Code/AOC_2022/Day-16-Proboscidea-Volcanium/main.ipynb#X11sZmlsZQ%3D%3D?line=1'>2</a>\u001b[0m cost(\u001b[39m9\u001b[39;49m)\n",
      "\u001b[1;31mTypeError\u001b[0m: 'collections.defaultdict' object is not callable"
     ]
    }
   ],
   "source": [
    "cost = defaultdict(lambda: float('inf'))\n",
    "cost(9)"
   ]
  },
  {
   "cell_type": "code",
   "execution_count": 16,
   "metadata": {},
   "outputs": [],
   "source": [
    "import re"
   ]
  },
  {
   "cell_type": "code",
   "execution_count": 17,
   "metadata": {},
   "outputs": [
    {
     "ename": "error",
     "evalue": "bad escape \\c at position 115",
     "output_type": "error",
     "traceback": [
      "\u001b[1;31m---------------------------------------------------------------------------\u001b[0m",
      "\u001b[1;31merror\u001b[0m                                     Traceback (most recent call last)",
      "\u001b[1;32mc:\\Users\\shank\\Desktop\\Advent-of-Code\\AOC_2022\\Day-16-Proboscidea-Volcanium\\main.ipynb Cell 5\u001b[0m in \u001b[0;36m<cell line: 2>\u001b[1;34m()\u001b[0m\n\u001b[0;32m      <a href='vscode-notebook-cell:/c%3A/Users/shank/Desktop/Advent-of-Code/AOC_2022/Day-16-Proboscidea-Volcanium/main.ipynb#X13sZmlsZQ%3D%3D?line=0'>1</a>\u001b[0m line \u001b[39m=\u001b[39m \u001b[39m'\u001b[39m\u001b[39mValve AA has flow rate=0; tunnels lead to valves DD, II, BB\u001b[39m\u001b[39m'\u001b[39m\n\u001b[1;32m----> <a href='vscode-notebook-cell:/c%3A/Users/shank/Desktop/Advent-of-Code/AOC_2022/Day-16-Proboscidea-Volcanium/main.ipynb#X13sZmlsZQ%3D%3D?line=1'>2</a>\u001b[0m res \u001b[39m=\u001b[39m re\u001b[39m.\u001b[39;49mfindall(\n\u001b[0;32m      <a href='vscode-notebook-cell:/c%3A/Users/shank/Desktop/Advent-of-Code/AOC_2022/Day-16-Proboscidea-Volcanium/main.ipynb#X13sZmlsZQ%3D%3D?line=2'>3</a>\u001b[0m     \u001b[39m'\u001b[39;49m\u001b[39mValve (\u001b[39;49m\u001b[39m\\\u001b[39;49m\u001b[39mw+) has flow rate=(\u001b[39;49m\u001b[39m\\\u001b[39;49m\u001b[39md+); tunnel[current_valve_at]* lead[current_valve_at]* to valve[current_valve_at]* ([\u001b[39;49m\u001b[39m\\\u001b[39;49m\u001b[39mw\u001b[39;49m\u001b[39m\\\u001b[39;49m\u001b[39mcurrent_valve_at,]*)\u001b[39;49m\u001b[39m'\u001b[39;49m, line\u001b[39m.\u001b[39;49mstrip())[\u001b[39m0\u001b[39m]\n\u001b[0;32m      <a href='vscode-notebook-cell:/c%3A/Users/shank/Desktop/Advent-of-Code/AOC_2022/Day-16-Proboscidea-Volcanium/main.ipynb#X13sZmlsZQ%3D%3D?line=3'>4</a>\u001b[0m res\n",
      "File \u001b[1;32mc:\\Users\\shank\\AppData\\Local\\Programs\\Python\\Python39\\lib\\re.py:241\u001b[0m, in \u001b[0;36mfindall\u001b[1;34m(pattern, string, flags)\u001b[0m\n\u001b[0;32m    233\u001b[0m \u001b[39mdef\u001b[39;00m \u001b[39mfindall\u001b[39m(pattern, string, flags\u001b[39m=\u001b[39m\u001b[39m0\u001b[39m):\n\u001b[0;32m    234\u001b[0m     \u001b[39m\"\"\"Return a list of all non-overlapping matches in the string.\u001b[39;00m\n\u001b[0;32m    235\u001b[0m \n\u001b[0;32m    236\u001b[0m \u001b[39m    If one or more capturing groups are present in the pattern, return\u001b[39;00m\n\u001b[1;32m   (...)\u001b[0m\n\u001b[0;32m    239\u001b[0m \n\u001b[0;32m    240\u001b[0m \u001b[39m    Empty matches are included in the result.\"\"\"\u001b[39;00m\n\u001b[1;32m--> 241\u001b[0m     \u001b[39mreturn\u001b[39;00m _compile(pattern, flags)\u001b[39m.\u001b[39mfindall(string)\n",
      "File \u001b[1;32mc:\\Users\\shank\\AppData\\Local\\Programs\\Python\\Python39\\lib\\re.py:304\u001b[0m, in \u001b[0;36m_compile\u001b[1;34m(pattern, flags)\u001b[0m\n\u001b[0;32m    302\u001b[0m \u001b[39mif\u001b[39;00m \u001b[39mnot\u001b[39;00m sre_compile\u001b[39m.\u001b[39misstring(pattern):\n\u001b[0;32m    303\u001b[0m     \u001b[39mraise\u001b[39;00m \u001b[39mTypeError\u001b[39;00m(\u001b[39m\"\u001b[39m\u001b[39mfirst argument must be string or compiled pattern\u001b[39m\u001b[39m\"\u001b[39m)\n\u001b[1;32m--> 304\u001b[0m p \u001b[39m=\u001b[39m sre_compile\u001b[39m.\u001b[39;49mcompile(pattern, flags)\n\u001b[0;32m    305\u001b[0m \u001b[39mif\u001b[39;00m \u001b[39mnot\u001b[39;00m (flags \u001b[39m&\u001b[39m DEBUG):\n\u001b[0;32m    306\u001b[0m     \u001b[39mif\u001b[39;00m \u001b[39mlen\u001b[39m(_cache) \u001b[39m>\u001b[39m\u001b[39m=\u001b[39m _MAXCACHE:\n\u001b[0;32m    307\u001b[0m         \u001b[39m# Drop the oldest item\u001b[39;00m\n",
      "File \u001b[1;32mc:\\Users\\shank\\AppData\\Local\\Programs\\Python\\Python39\\lib\\sre_compile.py:788\u001b[0m, in \u001b[0;36mcompile\u001b[1;34m(p, flags)\u001b[0m\n\u001b[0;32m    786\u001b[0m \u001b[39mif\u001b[39;00m isstring(p):\n\u001b[0;32m    787\u001b[0m     pattern \u001b[39m=\u001b[39m p\n\u001b[1;32m--> 788\u001b[0m     p \u001b[39m=\u001b[39m sre_parse\u001b[39m.\u001b[39;49mparse(p, flags)\n\u001b[0;32m    789\u001b[0m \u001b[39melse\u001b[39;00m:\n\u001b[0;32m    790\u001b[0m     pattern \u001b[39m=\u001b[39m \u001b[39mNone\u001b[39;00m\n",
      "File \u001b[1;32mc:\\Users\\shank\\AppData\\Local\\Programs\\Python\\Python39\\lib\\sre_parse.py:955\u001b[0m, in \u001b[0;36mparse\u001b[1;34m(str, flags, state)\u001b[0m\n\u001b[0;32m    952\u001b[0m state\u001b[39m.\u001b[39mstr \u001b[39m=\u001b[39m \u001b[39mstr\u001b[39m\n\u001b[0;32m    954\u001b[0m \u001b[39mtry\u001b[39;00m:\n\u001b[1;32m--> 955\u001b[0m     p \u001b[39m=\u001b[39m _parse_sub(source, state, flags \u001b[39m&\u001b[39;49m SRE_FLAG_VERBOSE, \u001b[39m0\u001b[39;49m)\n\u001b[0;32m    956\u001b[0m \u001b[39mexcept\u001b[39;00m Verbose:\n\u001b[0;32m    957\u001b[0m     \u001b[39m# the VERBOSE flag was switched on inside the pattern.  to be\u001b[39;00m\n\u001b[0;32m    958\u001b[0m     \u001b[39m# on the safe side, we'll parse the whole thing again...\u001b[39;00m\n\u001b[0;32m    959\u001b[0m     state \u001b[39m=\u001b[39m State()\n",
      "File \u001b[1;32mc:\\Users\\shank\\AppData\\Local\\Programs\\Python\\Python39\\lib\\sre_parse.py:444\u001b[0m, in \u001b[0;36m_parse_sub\u001b[1;34m(source, state, verbose, nested)\u001b[0m\n\u001b[0;32m    442\u001b[0m start \u001b[39m=\u001b[39m source\u001b[39m.\u001b[39mtell()\n\u001b[0;32m    443\u001b[0m \u001b[39mwhile\u001b[39;00m \u001b[39mTrue\u001b[39;00m:\n\u001b[1;32m--> 444\u001b[0m     itemsappend(_parse(source, state, verbose, nested \u001b[39m+\u001b[39;49m \u001b[39m1\u001b[39;49m,\n\u001b[0;32m    445\u001b[0m                        \u001b[39mnot\u001b[39;49;00m nested \u001b[39mand\u001b[39;49;00m \u001b[39mnot\u001b[39;49;00m items))\n\u001b[0;32m    446\u001b[0m     \u001b[39mif\u001b[39;00m \u001b[39mnot\u001b[39;00m sourcematch(\u001b[39m\"\u001b[39m\u001b[39m|\u001b[39m\u001b[39m\"\u001b[39m):\n\u001b[0;32m    447\u001b[0m         \u001b[39mbreak\u001b[39;00m\n",
      "File \u001b[1;32mc:\\Users\\shank\\AppData\\Local\\Programs\\Python\\Python39\\lib\\sre_parse.py:841\u001b[0m, in \u001b[0;36m_parse\u001b[1;34m(source, state, verbose, nested, first)\u001b[0m\n\u001b[0;32m    838\u001b[0m         \u001b[39mraise\u001b[39;00m source\u001b[39m.\u001b[39merror(err\u001b[39m.\u001b[39mmsg, \u001b[39mlen\u001b[39m(name) \u001b[39m+\u001b[39m \u001b[39m1\u001b[39m) \u001b[39mfrom\u001b[39;00m \u001b[39mNone\u001b[39m\n\u001b[0;32m    839\u001b[0m sub_verbose \u001b[39m=\u001b[39m ((verbose \u001b[39mor\u001b[39;00m (add_flags \u001b[39m&\u001b[39m SRE_FLAG_VERBOSE)) \u001b[39mand\u001b[39;00m\n\u001b[0;32m    840\u001b[0m                \u001b[39mnot\u001b[39;00m (del_flags \u001b[39m&\u001b[39m SRE_FLAG_VERBOSE))\n\u001b[1;32m--> 841\u001b[0m p \u001b[39m=\u001b[39m _parse_sub(source, state, sub_verbose, nested \u001b[39m+\u001b[39;49m \u001b[39m1\u001b[39;49m)\n\u001b[0;32m    842\u001b[0m \u001b[39mif\u001b[39;00m \u001b[39mnot\u001b[39;00m source\u001b[39m.\u001b[39mmatch(\u001b[39m\"\u001b[39m\u001b[39m)\u001b[39m\u001b[39m\"\u001b[39m):\n\u001b[0;32m    843\u001b[0m     \u001b[39mraise\u001b[39;00m source\u001b[39m.\u001b[39merror(\u001b[39m\"\u001b[39m\u001b[39mmissing ), unterminated subpattern\u001b[39m\u001b[39m\"\u001b[39m,\n\u001b[0;32m    844\u001b[0m                        source\u001b[39m.\u001b[39mtell() \u001b[39m-\u001b[39m start)\n",
      "File \u001b[1;32mc:\\Users\\shank\\AppData\\Local\\Programs\\Python\\Python39\\lib\\sre_parse.py:444\u001b[0m, in \u001b[0;36m_parse_sub\u001b[1;34m(source, state, verbose, nested)\u001b[0m\n\u001b[0;32m    442\u001b[0m start \u001b[39m=\u001b[39m source\u001b[39m.\u001b[39mtell()\n\u001b[0;32m    443\u001b[0m \u001b[39mwhile\u001b[39;00m \u001b[39mTrue\u001b[39;00m:\n\u001b[1;32m--> 444\u001b[0m     itemsappend(_parse(source, state, verbose, nested \u001b[39m+\u001b[39;49m \u001b[39m1\u001b[39;49m,\n\u001b[0;32m    445\u001b[0m                        \u001b[39mnot\u001b[39;49;00m nested \u001b[39mand\u001b[39;49;00m \u001b[39mnot\u001b[39;49;00m items))\n\u001b[0;32m    446\u001b[0m     \u001b[39mif\u001b[39;00m \u001b[39mnot\u001b[39;00m sourcematch(\u001b[39m\"\u001b[39m\u001b[39m|\u001b[39m\u001b[39m\"\u001b[39m):\n\u001b[0;32m    447\u001b[0m         \u001b[39mbreak\u001b[39;00m\n",
      "File \u001b[1;32mc:\\Users\\shank\\AppData\\Local\\Programs\\Python\\Python39\\lib\\sre_parse.py:555\u001b[0m, in \u001b[0;36m_parse\u001b[1;34m(source, state, verbose, nested, first)\u001b[0m\n\u001b[0;32m    553\u001b[0m     \u001b[39mbreak\u001b[39;00m\n\u001b[0;32m    554\u001b[0m \u001b[39melif\u001b[39;00m this[\u001b[39m0\u001b[39m] \u001b[39m==\u001b[39m \u001b[39m\"\u001b[39m\u001b[39m\\\\\u001b[39;00m\u001b[39m\"\u001b[39m:\n\u001b[1;32m--> 555\u001b[0m     code1 \u001b[39m=\u001b[39m _class_escape(source, this)\n\u001b[0;32m    556\u001b[0m \u001b[39melse\u001b[39;00m:\n\u001b[0;32m    557\u001b[0m     \u001b[39mif\u001b[39;00m \u001b[39mset\u001b[39m \u001b[39mand\u001b[39;00m this \u001b[39min\u001b[39;00m \u001b[39m'\u001b[39m\u001b[39m-&~|\u001b[39m\u001b[39m'\u001b[39m \u001b[39mand\u001b[39;00m source\u001b[39m.\u001b[39mnext \u001b[39m==\u001b[39m this:\n",
      "File \u001b[1;32mc:\\Users\\shank\\AppData\\Local\\Programs\\Python\\Python39\\lib\\sre_parse.py:350\u001b[0m, in \u001b[0;36m_class_escape\u001b[1;34m(source, escape)\u001b[0m\n\u001b[0;32m    348\u001b[0m     \u001b[39mif\u001b[39;00m \u001b[39mlen\u001b[39m(escape) \u001b[39m==\u001b[39m \u001b[39m2\u001b[39m:\n\u001b[0;32m    349\u001b[0m         \u001b[39mif\u001b[39;00m c \u001b[39min\u001b[39;00m ASCIILETTERS:\n\u001b[1;32m--> 350\u001b[0m             \u001b[39mraise\u001b[39;00m source\u001b[39m.\u001b[39merror(\u001b[39m'\u001b[39m\u001b[39mbad escape \u001b[39m\u001b[39m%s\u001b[39;00m\u001b[39m'\u001b[39m \u001b[39m%\u001b[39m escape, \u001b[39mlen\u001b[39m(escape))\n\u001b[0;32m    351\u001b[0m         \u001b[39mreturn\u001b[39;00m LITERAL, \u001b[39mord\u001b[39m(escape[\u001b[39m1\u001b[39m])\n\u001b[0;32m    352\u001b[0m \u001b[39mexcept\u001b[39;00m \u001b[39mValueError\u001b[39;00m:\n",
      "\u001b[1;31merror\u001b[0m: bad escape \\c at position 115"
     ]
    }
   ],
   "source": [
    "line = 'Valve AA has flow rate=0; tunnels lead to valves DD, II, BB'\n",
    "res = re.findall(\n",
    "    'Valve (\\w+) has flow rate=(\\d+); tunnel[current_valve_at]* lead[current_valve_at]* to valve[current_valve_at]* ([\\w\\current_valve_at,]*)', line.strip())[0]\n",
    "res"
   ]
  },
  {
   "cell_type": "code",
   "execution_count": null,
   "metadata": {},
   "outputs": [],
   "source": []
  }
 ],
 "metadata": {
  "kernelspec": {
   "display_name": "Python 3",
   "language": "python",
   "name": "python3"
  },
  "language_info": {
   "codemirror_mode": {
    "name": "ipython",
    "version": 3
   },
   "file_extension": ".py",
   "mimetype": "text/x-python",
   "name": "python",
   "nbconvert_exporter": "python",
   "pygments_lexer": "ipython3",
   "version": "3.9.13"
  },
  "orig_nbformat": 4,
  "vscode": {
   "interpreter": {
    "hash": "5926885901cbf6afd2ca8f309e14dd121c3235281dc542f68de1e12d67778034"
   }
  }
 },
 "nbformat": 4,
 "nbformat_minor": 2
}
