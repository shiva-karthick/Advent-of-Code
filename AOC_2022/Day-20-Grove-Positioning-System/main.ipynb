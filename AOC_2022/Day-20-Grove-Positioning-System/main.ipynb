{
 "cells": [
  {
   "cell_type": "code",
   "execution_count": 1,
   "metadata": {},
   "outputs": [
    {
     "name": "stdout",
     "output_type": "stream",
     "text": [
      "With Python 3.8 Walrus Operator\n",
      "------------------------\n",
      "Found Person: Amol\n",
      "Found Person: Kiku\n",
      "Found Person: Lini\n",
      "\n",
      "Without Walrus Operator\n",
      "------------------------\n",
      "Found Person: Amol\n",
      "Found Person: Kiku\n",
      "Found Person: Lini\n"
     ]
    }
   ],
   "source": [
    "sample_data = [\n",
    "    {\"id\": 1, \"name\": \"Amol\", \"project\": False},\n",
    "    {\"id\": 2, \"name\": \"Kiku\", \"project\": False},\n",
    "    {\"id\": 3, \"name\": None, \"project\": False},\n",
    "    {\"id\": 4, \"name\": \"Lini\", \"project\": True},\n",
    "    {\"id\": 4, \"name\": None, \"project\": True},\n",
    "]\n",
    "\n",
    "print(\"With Python 3.8 Walrus Operator\\n------------------------\")\n",
    "for entry in sample_data:\n",
    "    if name := entry.get(\"name\"):\n",
    "        print('Found Person:', name)\n",
    "\n",
    "print(\"\\nWithout Walrus Operator\\n------------------------\")\n",
    "for entry in sample_data:\n",
    "    name = entry.get(\"name\")\n",
    "    if name:\n",
    "        print('Found Person:', name)\n",
    "\n"
   ]
  },
  {
   "cell_type": "code",
   "execution_count": 7,
   "metadata": {},
   "outputs": [
    {
     "name": "stdout",
     "output_type": "stream",
     "text": [
      "1927975911472\n",
      "id0 = 1928055454912, id1 = 1928055460720, l = 464\n"
     ]
    }
   ],
   "source": [
    "l = 1\n",
    "print(f\"{id('a')}\")\n",
    "while True:\n",
    "    l += 1\n",
    "    id0 = id('a' * l)\n",
    "    id1 = id('a' * l)\n",
    "    if id0 != id1:\n",
    "        print(f'id0 = {id0}, id1 = {id1}, l = {l}')\n",
    "        break\n",
    "    if l > 99999999:\n",
    "        print('They\\'re the same picture')\n",
    "        break\n"
   ]
  },
  {
   "cell_type": "code",
   "execution_count": null,
   "metadata": {},
   "outputs": [],
   "source": [
    "    "
   ]
  }
 ],
 "metadata": {
  "kernelspec": {
   "display_name": "Python 3",
   "language": "python",
   "name": "python3"
  },
  "language_info": {
   "codemirror_mode": {
    "name": "ipython",
    "version": 3
   },
   "file_extension": ".py",
   "mimetype": "text/x-python",
   "name": "python",
   "nbconvert_exporter": "python",
   "pygments_lexer": "ipython3",
   "version": "3.9.13"
  },
  "orig_nbformat": 4,
  "vscode": {
   "interpreter": {
    "hash": "5926885901cbf6afd2ca8f309e14dd121c3235281dc542f68de1e12d67778034"
   }
  }
 },
 "nbformat": 4,
 "nbformat_minor": 2
}
