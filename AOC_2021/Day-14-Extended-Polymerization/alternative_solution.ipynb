{
 "cells": [
  {
   "cell_type": "code",
   "execution_count": 8,
   "metadata": {},
   "outputs": [],
   "source": [
    "from collections import Counter\n"
   ]
  },
  {
   "cell_type": "code",
   "execution_count": 4,
   "metadata": {},
   "outputs": [],
   "source": [
    "with open('input.txt') as reader:\n",
    "    line, _, *rest = reader.read().split('\\n')\n",
    "    # line = 'NNCB'\n",
    "    first = line[0]\n",
    "    # first = N\n",
    "    start = Counter(map(\"\".join, zip(line, line[1:])))\n",
    "    # start = Counter({'NN': 1, 'NC': 1, 'CB': 1})\n",
    "    data = dict(l.split(' -> ') for l in rest)\n",
    "    # {'CH': 'B',\n",
    "    #  'HH': 'N',\n",
    "    #  'CB': 'H',\n",
    "    #  'NH': 'C',\n",
    "    #  'HB': 'C',\n",
    "    #  'HC': 'B',\n",
    "    #  'HN': 'C',\n",
    "    #  'NN': 'C',\n",
    "    #  'BH': 'H',\n",
    "    #  'NC': 'B',\n",
    "    #  'NB': 'B',\n",
    "    #  'BN': 'B',\n",
    "    #  'BB': 'N',\n",
    "    #  'BC': 'B',\n",
    "    #  'CC': 'N',\n",
    "    #  'CN': 'C'}"
   ]
  },
  {
   "cell_type": "code",
   "execution_count": null,
   "metadata": {},
   "outputs": [],
   "source": []
  },
  {
   "cell_type": "code",
   "execution_count": 5,
   "metadata": {},
   "outputs": [
    {
     "name": "stdout",
     "output_type": "stream",
     "text": [
      "Part 1: 3406\n",
      "Part 2: 3941782230241\n"
     ]
    }
   ],
   "source": [
    "def step(mp):\n",
    "    n = Counter()\n",
    "    for k, v in mp.items():\n",
    "#         print(f'n[k[0]+data[k]] = {n[k[0]+data[k]]}')\n",
    "        n[k[0]+data[k]] = n[k[0]+data[k]] + v\n",
    "        n[data[k]+k[1]] = n[data[k]+k[1]] + v\n",
    "    return n\n",
    "\n",
    "\n",
    "def solve(iters):\n",
    "    data = start.copy()\n",
    "    for _ in range(iters):\n",
    "        data = step(data)\n",
    "\n",
    "    counts = Counter()\n",
    "    for k, v in data.items():\n",
    "        counts[k[1]] += v\n",
    "    counts[first] += 1\n",
    "    counts = counts.most_common()\n",
    "\n",
    "    return counts[0][1] - counts[-1][1]\n",
    "\n",
    "\n",
    "print(\"Part 1:\", solve(10))\n",
    "print(\"Part 2:\", solve(40))\n"
   ]
  },
  {
   "cell_type": "raw",
   "metadata": {},
   "source": [
    "with open(\"input.txt\") as f: s,aoc_input = f.read().split('\\n\\n')\n",
    "rules = dict(parse.findall('{:w} -> {:l}', aoc_input))\n",
    "counts = dict((k,s.count(k)) for k in rules)\n",
    "elements = Counter(s)\n",
    "for step in range(1,41):\n",
    "    for a,b,k,c in [(a,b,k,counts[a+b]) for (a,b),k in rules.items()]:\n",
    "        counts[a+b]-=c\n",
    "        counts[a+k]+=c\n",
    "        counts[k+b]+=c\n",
    "        elements[k]+=c\n",
    "    if step in (10,40): print(elements.most_common()[0][1]-elements.most_common()[-1][1])"
   ]
  },
  {
   "cell_type": "code",
   "execution_count": null,
   "metadata": {},
   "outputs": [],
   "source": []
  }
 ],
 "metadata": {
  "interpreter": {
   "hash": "77d447f810b59e1f1761f37473a38941486910cf16bc06255229e2926237b380"
  },
  "kernelspec": {
   "display_name": "Python 3 (ipykernel)",
   "language": "python",
   "name": "python3"
  },
  "language_info": {
   "codemirror_mode": {
    "name": "ipython",
    "version": 3
   },
   "file_extension": ".py",
   "mimetype": "text/x-python",
   "name": "python",
   "nbconvert_exporter": "python",
   "pygments_lexer": "ipython3",
   "version": "3.9.7"
  }
 },
 "nbformat": 4,
 "nbformat_minor": 4
}
