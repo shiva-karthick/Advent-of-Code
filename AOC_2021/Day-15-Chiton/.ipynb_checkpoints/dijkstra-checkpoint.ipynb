{
 "cells": [
  {
   "cell_type": "code",
   "execution_count": 24,
   "id": "5ab1fd08-5477-4a89-b050-8cdaa9ea0109",
   "metadata": {},
   "outputs": [],
   "source": [
    "nodes = ('A', 'B', 'C', 'D', 'E', 'F', 'G')\n",
    "distances = {\n",
    "    'B': {'A': 5, 'D': 1, 'G': 2},\n",
    "    'A': {'B': 5, 'D': 3, 'E': 12, 'F' :5},\n",
    "    'D': {'B': 1, 'G': 1, 'E': 1, 'A': 3},\n",
    "    'G': {'B': 2, 'D': 1, 'C': 2},\n",
    "    'C': {'G': 2, 'E': 1, 'F': 16},\n",
    "    'E': {'A': 12, 'D': 1, 'C': 1, 'F': 2},\n",
    "    'F': {'A': 5, 'E': 2, 'C': 16}}\n",
    "\n",
    "unvisited = {node: None for node in nodes} #using None as +inf\n",
    "visited = {}\n",
    "current = 'B'\n",
    "currentDistance = 0\n",
    "unvisited[current] = currentDistance\n",
    "\n",
    "while True:\n",
    "    for neighbour, distance in distances[current].items():\n",
    "        if neighbour not in unvisited: continue\n",
    "        newDistance = currentDistance + distance\n",
    "        if unvisited[neighbour] is None or unvisited[neighbour] > newDistance:\n",
    "            unvisited[neighbour] = newDistance\n",
    "    visited[current] = currentDistance\n",
    "    del unvisited[current]\n",
    "    if not unvisited:\n",
    "        break\n",
    "    candidates = [node for node in unvisited.items() if node[1]]\n",
    "    current, currentDistance = sorted(candidates, key = lambda x: x[1])[0]"
   ]
  },
  {
   "cell_type": "code",
   "execution_count": null,
   "id": "87f1094c-8b6e-47c7-a228-279f2d2fe2a7",
   "metadata": {},
   "outputs": [],
   "source": []
  }
 ],
 "metadata": {
  "kernelspec": {
   "display_name": "Python 3 (ipykernel)",
   "language": "python",
   "name": "python3"
  },
  "language_info": {
   "codemirror_mode": {
    "name": "ipython",
    "version": 3
   },
   "file_extension": ".py",
   "mimetype": "text/x-python",
   "name": "python",
   "nbconvert_exporter": "python",
   "pygments_lexer": "ipython3",
   "version": "3.9.7"
  }
 },
 "nbformat": 4,
 "nbformat_minor": 5
}
