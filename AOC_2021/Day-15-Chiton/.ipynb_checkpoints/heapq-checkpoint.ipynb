{
 "cells": [
  {
   "cell_type": "code",
   "execution_count": 1,
   "id": "c4550690-00a1-4204-b208-f66b351cd59a",
   "metadata": {},
   "outputs": [],
   "source": [
    "# Python code to demonstrate working of \n",
    "# heapify(), heappush() and heappop()\n",
    "  \n",
    "# importing \"heapq\" to implement heap queue\n",
    "import heapq"
   ]
  },
  {
   "cell_type": "code",
   "execution_count": 2,
   "id": "e03a04b5-5d62-4803-bb96-5ea8dd238133",
   "metadata": {},
   "outputs": [],
   "source": [
    "# initializing list\n",
    "li = [5, 7, 9, 1, 3]\n",
    "  \n",
    "# using heapify to convert list into heap\n",
    "heapq.heapify(li)"
   ]
  },
  {
   "cell_type": "code",
   "execution_count": 3,
   "id": "bbaafa79-5d64-4f26-9869-ffcd5a25475b",
   "metadata": {},
   "outputs": [
    {
     "name": "stdout",
     "output_type": "stream",
     "text": [
      "The created heap is : [1, 3, 9, 7, 5]\n"
     ]
    }
   ],
   "source": [
    "# printing created heap\n",
    "print (\"The created heap is : \",end=\"\")\n",
    "print (list(li))"
   ]
  },
  {
   "cell_type": "code",
   "execution_count": 4,
   "id": "61167eb7-507e-48c5-b851-5e49d83ad5dd",
   "metadata": {},
   "outputs": [],
   "source": [
    "# using heappush() to push elements into heap\n",
    "# pushes 4\n",
    "heapq.heappush(li,4)"
   ]
  },
  {
   "cell_type": "code",
   "execution_count": 5,
   "id": "3531bd34-9e8d-4026-9e26-128b5a08c3ac",
   "metadata": {},
   "outputs": [
    {
     "name": "stdout",
     "output_type": "stream",
     "text": [
      "The modified heap after push is : [1, 3, 4, 7, 5, 9]\n"
     ]
    }
   ],
   "source": [
    "# printing modified heap\n",
    "print (\"The modified heap after push is : \",end=\"\")\n",
    "print (list(li))"
   ]
  },
  {
   "cell_type": "code",
   "execution_count": 6,
   "id": "b1125662-5212-445f-96d6-0c9d35afd430",
   "metadata": {},
   "outputs": [
    {
     "name": "stdout",
     "output_type": "stream",
     "text": [
      "The popped and smallest element is : 1\n"
     ]
    }
   ],
   "source": [
    "# using heappop() to pop smallest element\n",
    "print (\"The popped and smallest element is : \",end=\"\")\n",
    "print (heapq.heappop(li))"
   ]
  },
  {
   "cell_type": "code",
   "execution_count": null,
   "id": "139e5737-c832-41de-9b57-08aa76161761",
   "metadata": {},
   "outputs": [],
   "source": []
  }
 ],
 "metadata": {
  "kernelspec": {
   "display_name": "Python 3 (ipykernel)",
   "language": "python",
   "name": "python3"
  },
  "language_info": {
   "codemirror_mode": {
    "name": "ipython",
    "version": 3
   },
   "file_extension": ".py",
   "mimetype": "text/x-python",
   "name": "python",
   "nbconvert_exporter": "python",
   "pygments_lexer": "ipython3",
   "version": "3.9.7"
  }
 },
 "nbformat": 4,
 "nbformat_minor": 5
}
