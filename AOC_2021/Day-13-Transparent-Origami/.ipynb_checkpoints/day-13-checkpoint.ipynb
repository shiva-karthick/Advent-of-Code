{
 "cells": [
  {
   "cell_type": "code",
   "execution_count": 4,
   "id": "d88957b4-2ddc-4d3d-b841-c208602368c8",
   "metadata": {},
   "outputs": [
    {
     "name": "stdout",
     "output_type": "stream",
     "text": [
      "{(9, 10), (6, 12), (2, 14), (9, 0), (8, 4), (3, 4), (10, 4), (0, 13), (0, 3), (8, 10), (3, 0), (6, 10), (10, 12), (6, 0), (1, 10), (4, 11), (0, 14), (4, 1)}\n",
      "their nums = {(0, 1), (9, 0), (6, 2), (8, 4), (3, 4), (4, 3), (0, 0), (10, 4), (0, 3), (2, 0), (6, 4), (1, 4), (3, 0), (6, 0), (4, 1), (10, 2), (9, 4)}\n",
      "Part 1: 17\n",
      "Part 2:\n"
     ]
    }
   ],
   "source": [
    "with open(r'C:\\Users\\ShivaShankar\\Desktop\\Advent-of-Code\\AOC_2021\\Day-13-Transparent-Origami\\sample.txt') as f:\n",
    "    nums, folds = f.read().split('\\n\\n')\n",
    "\n",
    "\n",
    "nums = {tuple(map(int, line.split(','))) for line in nums.splitlines()}\n",
    "\n",
    "folds = [\n",
    "    (axis[-1], int(num))\n",
    "    for line in folds.splitlines()\n",
    "    for axis, num in [line.split('=')]\n",
    "]\n",
    "\n",
    "for i, (axis, t) in enumerate(folds):\n",
    "    if axis == 'x':\n",
    "        nums = set((x, y) if x < t else (t+t-x, y) for (x, y) in nums)\n",
    "    else:\n",
    "        print(nums)\n",
    "        nums = set((x, y) if y < t else (x, t+t-y) for (x, y) in nums)\n",
    "        print(f'their nums = {nums}')\n",
    "    if i == 0:\n",
    "        print(f\"Part 1: {len(nums)}\\nPart 2:\")"
   ]
  },
  {
   "cell_type": "code",
   "execution_count": 5,
   "id": "0b053339-74cf-4da5-a732-8dd7ae787254",
   "metadata": {},
   "outputs": [
    {
     "data": {
      "text/plain": [
       "5"
      ]
     },
     "execution_count": 5,
     "metadata": {},
     "output_type": "execute_result"
    }
   ],
   "source": [
    "max(y for _, y in nums)+1"
   ]
  },
  {
   "cell_type": "code",
   "execution_count": 6,
   "id": "36e4caaa-cde1-4286-a689-f88c846c571a",
   "metadata": {},
   "outputs": [
    {
     "data": {
      "text/plain": [
       "5"
      ]
     },
     "execution_count": 6,
     "metadata": {},
     "output_type": "execute_result"
    }
   ],
   "source": [
    "max(x for x, _ in nums)+1"
   ]
  },
  {
   "cell_type": "code",
   "execution_count": 7,
   "id": "dd1f423e-7e22-4ba8-966f-bb2f6ff4ddf2",
   "metadata": {},
   "outputs": [
    {
     "data": {
      "text/plain": [
       "{(0, 0),\n",
       " (0, 1),\n",
       " (0, 2),\n",
       " (0, 3),\n",
       " (0, 4),\n",
       " (1, 0),\n",
       " (1, 4),\n",
       " (2, 0),\n",
       " (2, 4),\n",
       " (3, 0),\n",
       " (3, 4),\n",
       " (4, 0),\n",
       " (4, 1),\n",
       " (4, 2),\n",
       " (4, 3),\n",
       " (4, 4)}"
      ]
     },
     "execution_count": 7,
     "metadata": {},
     "output_type": "execute_result"
    }
   ],
   "source": [
    "nums"
   ]
  },
  {
   "cell_type": "code",
   "execution_count": 8,
   "id": "be39e65f-24c4-4742-b09d-497b7b74f70b",
   "metadata": {},
   "outputs": [
    {
     "name": "stdout",
     "output_type": "stream",
     "text": [
      "#####\n",
      "#...#\n",
      "#...#\n",
      "#...#\n",
      "#####\n"
     ]
    }
   ],
   "source": [
    "for y in range(max(y for _, y in nums)+1):\n",
    "    for x in range(max(x for x, _ in nums)+1):\n",
    "        print('.#'[(x, y) in nums], end='')\n",
    "    print()"
   ]
  },
  {
   "cell_type": "code",
   "execution_count": null,
   "id": "b17633b0-d67f-4d34-ace9-817301231244",
   "metadata": {},
   "outputs": [],
   "source": []
  }
 ],
 "metadata": {
  "kernelspec": {
   "display_name": "Python 3",
   "language": "python",
   "name": "python3"
  },
  "language_info": {
   "codemirror_mode": {
    "name": "ipython",
    "version": 3
   },
   "file_extension": ".py",
   "mimetype": "text/x-python",
   "name": "python",
   "nbconvert_exporter": "python",
   "pygments_lexer": "ipython3",
   "version": "3.8.8"
  }
 },
 "nbformat": 4,
 "nbformat_minor": 5
}
